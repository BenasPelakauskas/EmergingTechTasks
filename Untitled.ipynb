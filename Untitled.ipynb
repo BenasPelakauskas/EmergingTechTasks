{
 "cells": [
  {
   "cell_type": "markdown",
   "metadata": {},
   "source": [
    "# sqrt2\n",
    "\n",
    "***"
   ]
  },
  {
   "cell_type": "markdown",
   "metadata": {},
   "source": [
    "[Radicand](https://en.wikipedia.org/wiki/Square_root#:~:text=The%20term%20(or%20number)%20whose,sign%2C%20in%20this%20case%209.&text=(see%20%C2%B1%20shorthand). \"Radicand, Square Root - Wikipedia\"), = 2.\n",
    "using the \" ** \" exponential operator, e.g x** y, we get the result of x to the power of y.  \n",
    "y being [1/2](https://www.quora.com/Is-a-square-root-written-as-1-2 \"Square root\") allows us to get the square root of x.  \n",
    "Here, we use the radicand to the power of 1/2, (radicand**(1/2))."
   ]
  },
  {
   "cell_type": "code",
   "execution_count": 55,
   "metadata": {},
   "outputs": [],
   "source": [
    "def sqrt2 (radicand):\n",
    "    \n",
    "    # x**(1/2)\n",
    "    result = radicand**(1/2)\n",
    "    \n",
    "    # Result formatted to 100 decimal places\n",
    "    printResult = format(result, '.100f')\n",
    "    # Print Result\n",
    "    print(printResult)"
   ]
  },
  {
   "cell_type": "markdown",
   "metadata": {},
   "source": [
    "# Tests"
   ]
  },
  {
   "cell_type": "code",
   "execution_count": 56,
   "metadata": {},
   "outputs": [
    {
     "name": "stdout",
     "output_type": "stream",
     "text": [
      "1.4142135623730951454746218587388284504413604736328125000000000000000000000000000000000000000000000000\n"
     ]
    }
   ],
   "source": [
    "# Square root of 2\n",
    "sqrt2(2)"
   ]
  },
  {
   "cell_type": "code",
   "execution_count": 57,
   "metadata": {},
   "outputs": [
    {
     "name": "stdout",
     "output_type": "stream",
     "text": [
      "5.0000000000000000000000000000000000000000000000000000000000000000000000000000000000000000000000000000\n"
     ]
    }
   ],
   "source": [
    "# Square root of 25\n",
    "sqrt2(25)"
   ]
  },
  {
   "cell_type": "code",
   "execution_count": 58,
   "metadata": {
    "scrolled": true
   },
   "outputs": [
    {
     "name": "stdout",
     "output_type": "stream",
     "text": [
      "1.4142135623730951454746218587388284504413604736328125000000000000000000000000000000000000000000000000\n"
     ]
    }
   ],
   "source": [
    "# Comparing result with math module\n",
    "import math\n",
    "result = math.sqrt(2)\n",
    "printResult = format(result, '.100f')\n",
    "print(printResult)"
   ]
  },
  {
   "cell_type": "markdown",
   "metadata": {},
   "source": [
    "***"
   ]
  },
  {
   "cell_type": "markdown",
   "metadata": {},
   "source": [
    "# [Chi-Squared Test for Independence](https://en.wikipedia.org/wiki/Chi-squared_test \"Chi-Squared - Wikipedia\")\n",
    "\n",
    "***"
   ]
  },
  {
   "cell_type": "markdown",
   "metadata": {},
   "source": [
    "The [Chi2 Contingency](https://docs.scipy.org/doc/scipy/reference/generated/scipy.stats.chi2_contingency.html \"Chi2 Contingecy\") table is used to perform the calculation, providing the Chi-Squared and P Value.  \n",
    "\n",
    "This is done by:\n",
    "1. Getting the Expected Value of each cell E.g cell [0,0]:  \n",
    "You get the total value for column A, MULTIPLIED by total of white collar DIVIDED by total of all cells.  \n",
    "150 * 349/650 = 80.54  \n",
    "\n",
    "\n",
    "2. Subtracting the observed value from expected to the power of 2, then dividing it by the expected value.  \n",
    "E.g (90-80.54)^2/80.54 = 1.11.\n",
    "The above calculations are performed for each cell, with the result being added together to give a final result of 24.6  \n",
    "\n",
    "\n",
    "\n",
    "![alt text](https://www.gstatic.com/education/formulas2/-1/en/chi_squared_test.svg \"Chi-Squared Test Forumla\")\n",
    "\n",
    "***"
   ]
  },
  {
   "cell_type": "code",
   "execution_count": 40,
   "metadata": {},
   "outputs": [],
   "source": [
    "from scipy.stats import chi2_contingency\n",
    "import numpy as np\n",
    "\n",
    "# Table content from Wikipedia in a 2d array.\n",
    "table = np.array([[90, 60, 104, 95],\n",
    "              [30, 50,  51, 20],\n",
    "              [30, 40,  45, 35]])\n",
    "\n",
    "# chi2, p, dof(Degree of Freedom), expected value passed to contigency table and calculated\n",
    "chi2, p, dof, expected = chi2_contingency(table)"
   ]
  },
  {
   "cell_type": "markdown",
   "metadata": {},
   "source": [
    "# Tests"
   ]
  },
  {
   "cell_type": "code",
   "execution_count": 41,
   "metadata": {},
   "outputs": [
    {
     "name": "stdout",
     "output_type": "stream",
     "text": [
      "Chi-Squared Value: 24.5712028585826\n",
      "P Value:           0.0004098425861096696\n"
     ]
    }
   ],
   "source": [
    "# Print Result of chi2 and P\n",
    "print(f\"Chi-Squared Value: {chi2}\")\n",
    "print(f\"P Value:           {p}\")"
   ]
  },
  {
   "cell_type": "markdown",
   "metadata": {},
   "source": [
    "***"
   ]
  },
  {
   "cell_type": "markdown",
   "metadata": {},
   "source": [
    "# [Standard Deviation](https://www.nlm.nih.gov/nichsr/stats_tutorial/section2/mod8_sd.html \"Standard Deviation\") of Array of Numbers\n",
    "\n",
    "***"
   ]
  },
  {
   "cell_type": "markdown",
   "metadata": {},
   "source": [
    "[STDEV.P](https://support.microsoft.com/en-us/office/stdev-p-function-6e917c05-31a0-496f-ade7-4f4e7462f285 \"STDEV.P\"): Standard deviation for entire population  \n",
    "[STDEV.S](https://support.microsoft.com/en-us/office/stdev-s-function-7d69cf97-0c1f-4acf-be27-f3e83904cc23#:~:text=S%20assumes%20that%20its%20arguments,P.&text=Arguments%20can%20either%20be%20numbers,or%20references%20that%20contain%20numbers. \"STDEV.S\"): Standard deviation estimate for a sample of the population\n"
   ]
  },
  {
   "cell_type": "code",
   "execution_count": 19,
   "metadata": {},
   "outputs": [],
   "source": [
    "import numpy as np\n",
    "\n",
    "# Array of numbers / Entire Population\n",
    "x = ([10,15,12,4,1,23,56,11,10,86,54,43,32,45,72,23,67,18,22,28,33,41,32,26,30])"
   ]
  },
  {
   "cell_type": "markdown",
   "metadata": {},
   "source": [
    "# Tests"
   ]
  },
  {
   "cell_type": "code",
   "execution_count": 20,
   "metadata": {},
   "outputs": [
    {
     "data": {
      "text/plain": [
       "21.474226412143462"
      ]
     },
     "execution_count": 20,
     "metadata": {},
     "output_type": "execute_result"
    }
   ],
   "source": [
    "# STDEV.P\n",
    "np.sqrt(np.sum((x - np.mean(x))**2)/len(x)) "
   ]
  },
  {
   "cell_type": "code",
   "execution_count": 21,
   "metadata": {},
   "outputs": [
    {
     "data": {
      "text/plain": [
       "21.45093004976707"
      ]
     },
     "execution_count": 21,
     "metadata": {},
     "output_type": "execute_result"
    }
   ],
   "source": [
    "# STDEV.S\n",
    "np.sqrt(np.sum((x - np.mean(x))**2)/len(x)-1)"
   ]
  },
  {
   "cell_type": "markdown",
   "metadata": {},
   "source": [
    "We can see from the result, both figures are similar but not identical.  \n",
    "A standard deviation of 25.5XXX indicates how spread out the data is from the mean, with a lower value meaning the data is less spread out and vice versa.  \n",
    "\n",
    "STDEV.P provides a more accurate result when using data from an entire population, where as STDEV.S makes an estimate based on a sample of the population\n"
   ]
  },
  {
   "cell_type": "code",
   "execution_count": 23,
   "metadata": {},
   "outputs": [
    {
     "data": {
      "text/plain": [
       "25.6117160690181"
      ]
     },
     "execution_count": 23,
     "metadata": {},
     "output_type": "execute_result"
    }
   ],
   "source": [
    "# Reduced array size / Sample Population\n",
    "x = ([10,15,12,4,1,23,56,11,10,86])\n",
    "\n",
    "# STDEV.S\n",
    "np.sqrt(np.sum((x - np.mean(x))**2)/len(x)-1)"
   ]
  },
  {
   "cell_type": "markdown",
   "metadata": {},
   "source": [
    "Using STDEV.S to calculate the standard deviation of a sample of the population, we receive a similar result with a difference of 4.XXX   \n",
    "\n",
    "1 being subtracted in the STDEV.S calculation is to reduce bias caused by a lack of an entire population.  \n",
    "With STDEV.S, you are using an estimated mean.   \n",
    "[-1](http://duramecho.com/Misc/WhyMinusOneInSd.html \"Why -1\") being the [\"degree of freedom\"](https://www.statisticshowto.com/probability-and-statistics/hypothesis-testing/degrees-of-freedom/ \"Why -1 in STDEV.S\") compensates for a smaller, sample data set."
   ]
  },
  {
   "cell_type": "markdown",
   "metadata": {},
   "source": [
    "***"
   ]
  },
  {
   "cell_type": "markdown",
   "metadata": {},
   "source": [
    "# [Iris Data Set](https://en.wikipedia.org/wiki/Iris_flower_data_set \"Iris Data Set\")\n",
    "\n",
    "***"
   ]
  },
  {
   "cell_type": "code",
   "execution_count": null,
   "metadata": {},
   "outputs": [],
   "source": [
    "import numpy as np\n",
    "\n",
    "# Import Data\n",
    "url = \"https://archive.ics.uci.edu/ml/machine-learning-databases/iris/iris.data\"\n"
   ]
  }
 ],
 "metadata": {
  "kernelspec": {
   "display_name": "Python 3",
   "language": "python",
   "name": "python3"
  },
  "language_info": {
   "codemirror_mode": {
    "name": "ipython",
    "version": 3
   },
   "file_extension": ".py",
   "mimetype": "text/x-python",
   "name": "python",
   "nbconvert_exporter": "python",
   "pygments_lexer": "ipython3",
   "version": "3.8.5"
  }
 },
 "nbformat": 4,
 "nbformat_minor": 4
}
